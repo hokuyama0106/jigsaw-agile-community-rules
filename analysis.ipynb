{
 "cells": [
  {
   "cell_type": "code",
   "execution_count": null,
   "id": "e9605d1e",
   "metadata": {},
   "outputs": [],
   "source": [
    "# !pip install vllm==0.10.2\n",
    "# !pip install pyarrow"
   ]
  },
  {
   "cell_type": "code",
   "execution_count": null,
   "id": "4381170d",
   "metadata": {},
   "outputs": [],
   "source": [
    "%%writefile gen_answer.py\n",
    "import re\n",
    "import torch\n",
    "import pandas as pd\n",
    "import ast\n",
    "import vllm\n",
    "\n",
    "def main():\n",
    "    # Model path\n",
    "    model_path = \"/mnt/nfs-mnj-hot-99/tmp/hokuyama/models/Qwen3-14B\"\n",
    "\n",
    "    # Initialize the LLM\n",
    "    llm = vllm.LLM(\n",
    "        model_path,\n",
    "        tensor_parallel_size=torch.cuda.device_count(),\n",
    "        gpu_memory_utilization=0.99,\n",
    "        trust_remote_code=True,\n",
    "        dtype=\"half\",\n",
    "        enforce_eager=True,\n",
    "        max_model_len=4096,\n",
    "        max_num_seqs=32,\n",
    "        disable_log_stats=True,\n",
    "        enable_prefix_caching=True,\n",
    "    )\n",
    "    tokenizer = llm.get_tokenizer()\n",
    "\n",
    "    SYSTEM_PROMPT = \"\"\"You are an expert content moderator AI model. \n",
    "Your task is to analyze a Reddit comment against a specific community rule and predict the probability that the comment violates that rule.\n",
    "The probability must be a float value between 0.00 and 1.00, formatted to two decimal places.\n",
    "A probability closer to 1.00 indicates a high likelihood of a rule violation, and a probability closer to 0.00 indicates a low likelihood of a rule violation.\n",
    "\n",
    "YOUR OUTPUT MUST BE ONLY THE PROBABILITY VALUE, WITH NO OTHER TEXT, REASONING, OR EXPLANATION.\"\"\"\n",
    "\n",
    "    USER_PROMPT_TEMPLATE = \"\"\"### RULE\n",
    "{rule_text}\n",
    "\n",
    "### COMMENT TO EVALUATE\n",
    "{comment_body}\"\"\"\n",
    "\n",
    "    # Read data\n",
    "    df_train = pd.read_csv(\"jigsaw-agile-community-rules/train_v2.csv\")\n",
    "\n",
    "    prompts = []\n",
    "    for i, r in df_train.iterrows():\n",
    "        user_prompt = USER_PROMPT_TEMPLATE.format(\n",
    "            rule_text=r['rule'],\n",
    "            comment_body=r['body']\n",
    "        )\n",
    "        messages = [\n",
    "            {'role': 'system', 'content': SYSTEM_PROMPT},\n",
    "            {'role': 'user', 'content': user_prompt}\n",
    "        ]\n",
    "        prompts.append(messages)\n",
    "\n",
    "    outputs = llm.chat(\n",
    "        prompts,\n",
    "        vllm.SamplingParams(\n",
    "            seed=0,\n",
    "            skip_special_tokens=True,\n",
    "            max_tokens=1024,\n",
    "            temperature=0,\n",
    "            repetition_penalty=1.05,\n",
    "        ),\n",
    "        # chat_template_kwargs={\"enable_thinking\": False},\n",
    "        use_tqdm=True\n",
    "    )\n",
    "    responses =  [output.outputs[0].text for output in outputs]\n",
    "\n",
    "    answers = []\n",
    "    for response in responses:\n",
    "        try:\n",
    "            answer = float(response.split(\"</think>\")[-1])\n",
    "            answers.append(answer)\n",
    "        except:\n",
    "            answers.append(0.5)\n",
    "\n",
    "    df_train[\"llm_output\"] = answers\n",
    "\n",
    "    # Save as Parquet file\n",
    "    df_train.to_parquet('output.parquet', index=False)\n",
    "\n",
    "if __name__ == \"__main__\":\n",
    "    main()"
   ]
  },
  {
   "cell_type": "code",
   "execution_count": null,
   "id": "f548b6da",
   "metadata": {},
   "outputs": [],
   "source": [
    "!python gen_answer.py"
   ]
  },
  {
   "cell_type": "code",
   "execution_count": null,
   "id": "e1f58dac",
   "metadata": {},
   "outputs": [],
   "source": [
    "import pandas as pd\n",
    "df = pd.read_parquet(\"output.parquet\")\n",
    "df[\"rule_violation\"] = df[\"llm_output\"]\n",
    "df[[\"row_id\", \"rule_violation\"]].to_csv(\"submission.csv\", index=False)"
   ]
  },
  {
   "cell_type": "code",
   "execution_count": null,
   "id": "fa192b77",
   "metadata": {},
   "outputs": [],
   "source": [
    "from sklearn.metrics import roc_auc_score\n",
    "df = pd.read_parquet(\"output.parquet\")\n",
    "roc_auc_score(df[\"rule_violation\"], df[\"llm_output\"])"
   ]
  },
  {
   "cell_type": "code",
   "execution_count": null,
   "id": "44e181c4",
   "metadata": {},
   "outputs": [],
   "source": [
    "df"
   ]
  },
  {
   "cell_type": "code",
   "execution_count": null,
   "id": "29038b37",
   "metadata": {},
   "outputs": [],
   "source": [
    "df = pd.read_csv(\"jigsaw-agile-community-rules/train.csv\")\n",
    "\n",
    "# 1. body と rule のユニーク値を取得\n",
    "unique_bodies = df['body'].drop_duplicates()\n",
    "unique_rules = df['rule'].drop_duplicates()\n",
    "\n",
    "# 2. 全 body × 全 rule の組み合わせ（重複なし）\n",
    "comb = pd.MultiIndex.from_product([unique_bodies, unique_rules], names=['body', 'rule'])\n",
    "mapped_df = pd.DataFrame(index=comb).reset_index()\n",
    "\n",
    "# 3. (body, rule)ごとに最頻値（mode）を求める関数\n",
    "def get_mode(s):\n",
    "    m = s.mode()\n",
    "    if m.empty:\n",
    "        return None  # ここは None でOK\n",
    "    else:\n",
    "        return m.iloc[0]\n",
    "\n",
    "# 4. 元dfから body, rule ごとの rule_violation の mode を抽出\n",
    "rule_violation_map = (\n",
    "    df.groupby(['body', 'rule'])['rule_violation']\n",
    "      .agg(get_mode)\n",
    "      .reset_index()\n",
    ")\n",
    "\n",
    "# 5. 全組み合わせ dataframe に rule_violation を結合\n",
    "result = mapped_df.merge(rule_violation_map, on=['body', 'rule'], how='left')\n",
    "\n",
    "# 6. rule_violation が NaN（ない場合）は 0.5 にする\n",
    "result['rule_violation'] = result['rule_violation'].fillna(0.5)"
   ]
  },
  {
   "cell_type": "code",
   "execution_count": null,
   "id": "0b6c608c",
   "metadata": {},
   "outputs": [],
   "source": [
    "result"
   ]
  },
  {
   "cell_type": "code",
   "execution_count": null,
   "id": "71dcead5",
   "metadata": {},
   "outputs": [],
   "source": [
    "result[result[\"rule_violation\"] != 0.5].reset_index(drop=True).reset_index(drop=False).to_csv(\"jigsaw-agile-community-rules/train_v2.csv\", index=False)"
   ]
  },
  {
   "cell_type": "code",
   "execution_count": null,
   "id": "676c98f7",
   "metadata": {},
   "outputs": [],
   "source": []
  }
 ],
 "metadata": {
  "kernelspec": {
   "display_name": "Python 3",
   "language": "python",
   "name": "python3"
  },
  "language_info": {
   "codemirror_mode": {
    "name": "ipython",
    "version": 3
   },
   "file_extension": ".py",
   "mimetype": "text/x-python",
   "name": "python",
   "nbconvert_exporter": "python",
   "pygments_lexer": "ipython3",
   "version": "3.13.7"
  }
 },
 "nbformat": 4,
 "nbformat_minor": 5
}
